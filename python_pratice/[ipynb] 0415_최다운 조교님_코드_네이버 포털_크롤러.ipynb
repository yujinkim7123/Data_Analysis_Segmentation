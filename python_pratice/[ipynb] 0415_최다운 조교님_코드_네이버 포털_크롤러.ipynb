{
 "cells": [
  {
   "cell_type": "code",
   "execution_count": null,
   "metadata": {},
   "outputs": [],
   "source": [
    "!pip install selenium\n",
    "!apt-get update\n",
    "!apt install chromium-chromedriver\n",
    "!cp /usr/lib/chromium-browser/chromedriver /usr/bin\n",
    "!pip install lxml"
   ]
  },
  {
   "cell_type": "code",
   "execution_count": null,
   "metadata": {},
   "outputs": [],
   "source": [
    "import logging\n",
    "import random\n",
    "from urllib.parse import urlparse\n",
    "from selenium import webdriver\n",
    "from selenium.webdriver.chrome.options import Options\n",
    "from selenium.webdriver.common.by import By\n",
    "from selenium.webdriver.common.keys import Keys\n",
    "from selenium.webdriver.support.ui import WebDriverWait\n",
    "from selenium.webdriver.support import expected_conditions as EC\n",
    "from bs4 import BeautifulSoup as bs\n",
    "import time\n",
    "import pickle\n",
    "from tqdm.notebook import tqdm\n",
    "import pandas as pd\n",
    "import re\n",
    "import warnings\n",
    "from selenium import webdriver\n",
    "from selenium.webdriver.chrome.service import Service\n",
    "from selenium.webdriver.chrome.options import Options\n",
    "from webdriver_manager.chrome import ChromeDriverManager\n",
    "\n",
    "warnings.filterwarnings(action='ignore')\n",
    "from selenium.common.exceptions import TimeoutException, NoSuchElementException"
   ]
  },
  {
   "cell_type": "markdown",
   "metadata": {},
   "source": [
    "### * 직접 설정 * \n",
    "* 키워드 리스트는 변수명 keywords 이여야함\n",
    "* eliminate_cafe 리스트 반드시 같이 실행해야함\n"
   ]
  },
  {
   "cell_type": "code",
   "execution_count": null,
   "metadata": {},
   "outputs": [],
   "source": [
    "main_keywords = ['로봇청소기 | 로청 | 청소']"
   ]
  },
  {
   "cell_type": "markdown",
   "metadata": {},
   "source": [
    "##### 날짜 및 제외 카페 홈 주소 설정"
   ]
  },
  {
   "cell_type": "code",
   "execution_count": null,
   "metadata": {},
   "outputs": [],
   "source": [
    "#제외 하고 싶은 카페홈 주소_필수실행\n",
    "eliminate_cafe = ['https://cafe.naver.com/clubng',\n",
    "                'https://cafe.naver.com/outletshop',\n",
    "                'https://cafe.naver.com/gjtnwls123',\n",
    "                'https://cafe.naver.com/movie567',\n",
    "                'https://cafe.naver.com/komandos',\n",
    "                'https://cafe.naver.com/comicity',\n",
    "                'https://cafe.naver.com/bk1009',\n",
    "                'https://cafe.naver.com/bestofmobile',\n",
    "                'https://cafe.naver.com/illnesses',\n",
    "                'https://cafe.naver.com/simsll',\n",
    "                'https://cafe.naver.com/nexonsfw',\n",
    "                'https://cafe.naver.com/ipod5',\n",
    "                'https://cafe.naver.com/goldenpeach',\n",
    "                'https://cafe.naver.com/itop5',\n",
    "                'https://cafe.naver.com/peopledisc',\n",
    "                'https://cafe.naver.com/soho',\n",
    "                'https://cafe.naver.com/tictoc',\n",
    "                'https://cafe.naver.com/s7942',\n",
    "                'https://cafe.naver.com/simsll',\n",
    "                'https://cafe.naver.com/godofhighschooljjang',\n",
    "                'https://cafe.naver.com/joonggonara',\n",
    "                'https://cafe.naver.com/hongdaeholic',\n",
    "                'https://cafe.naver.com/poohstory',\n",
    "                'https://cafe.naver.com/glycosarang',\n",
    "                'https://cafe.naver.com/appleiphone']##추후에 크롤링 시도할 카페\n",
    "\n",
    "pattern = '|'.join(eliminate_cafe)"
   ]
  },
  {
   "cell_type": "markdown",
   "metadata": {},
   "source": [
    "## 키워드 설정\n",
    "- 키워드 입력하실 때 너무 많은 양을 한꺼번에 넣지 마시고, 분할해서 진행해주세요!!\n",
    "- 한 키워드당 수집하는데 약 48분 걸린다고 하니 이 점 유의해서 진행해주세요!!!"
   ]
  },
  {
   "cell_type": "code",
   "execution_count": null,
   "metadata": {},
   "outputs": [],
   "source": [
    "####### 청소경험 키워드 \n",
    "\n",
    "#포털 광고 글 필터링 위함\n",
    "#eliminate_ads_keyword='-광고 -특가 -할인 -세일 -수수료 -이벤트 -핫딜 -입주 -이사'\n",
    "eliminate_ads_keyword = '-할인 -핫딜 -매도 -임대 -계약 -특가 -가이드 -업체 -입주 -이사'\n",
    "\n",
    "#청소 관련 단어\n",
    "\n",
    "clean_key =['스캔', '경로', '라이다', '실시간'] #앞으로 해야함!\n",
    "\n",
    "keywords=[]\n",
    "\n",
    "for main in main_keywords:\n",
    "    for clean in clean_key:\n",
    "        keywords.append(main + '+%2B' + clean +' ' + eliminate_ads_keyword)\n",
    "\n",
    "keywords"
   ]
  },
  {
   "cell_type": "markdown",
   "metadata": {},
   "source": [
    "## 1. Naver Cafe 수집"
   ]
  },
  {
   "cell_type": "markdown",
   "metadata": {},
   "source": [
    "#### 1.2.2 날짜미적용버전"
   ]
  },
  {
   "cell_type": "code",
   "execution_count": null,
   "metadata": {},
   "outputs": [],
   "source": [
    "import os\n",
    "# 로그 설정\n",
    "logging.basicConfig(level=logging.INFO, format='%(asctime)s - %(levelname)s - %(message)s')\n",
    "\n",
    "# Chrome 옵션 설정\n",
    "options = Options()\n",
    "options.add_argument(\"--disable-backgrounding-occluded-windows\")\n",
    "options.add_argument(\"--disable-notifications\") \n",
    "options.add_argument('--disable-popup-blocking')\n",
    "options.add_argument('--no-sandbox')\n",
    "options.add_argument('--disable-dev-shm-usage')\n",
    "\n",
    "\n",
    "# WebDriver 실행 (ChromeDriver 버전이 Chrome 브라우저 버전과 일치하는지 확인)\n",
    "driver = webdriver.Chrome(service=Service(ChromeDriverManager().install()), options=options)"
   ]
  },
  {
   "cell_type": "code",
   "execution_count": null,
   "metadata": {},
   "outputs": [],
   "source": [
    "#새로운 데이터 프레임 만들기 \n",
    "#기존 데이터프레임에 추가할때는 생성코드 실행하지않고 불러온다음 넣고자 하는 loc의 index 시작 넘버를 index 변수에 할당\n",
    "dataframe = pd.DataFrame(columns=['date', 'keyword', 'title', 'contents', 'comments' ,'site', 'url']) #-데이터프레임 만들기\n",
    "index = 0  #데이터 프레임 index (ex. dataframe.loc[index] = inputdata)"
   ]
  },
  {
   "cell_type": "code",
   "execution_count": null,
   "metadata": {
    "scrolled": true
   },
   "outputs": [],
   "source": [
    "for key in tqdm(keywords, desc='키워드'):\n",
    "    logging.info(\"[{}] 키워드 검색 중\".format(key))\n",
    "    progress = tqdm(desc=\"수집된게시물\")  # total 없이 생성\n",
    "        \n",
    "    ############ URL 불러오기 ############\n",
    "    url = 'https://search.naver.com/search.naver?ssc=tab.cafe.all&sm=tab_jum&query={}'.format(key)\n",
    "\n",
    "    driver.get(url)  #url 기져오기\n",
    "    driver.implicitly_wait(15) #웹페이지 로딩될때까지 대기\n",
    "    time.sleep(1)\n",
    "    # AppleScript로 크롬 창 백그라운드로 전환\n",
    "    \n",
    "    breaker=False\n",
    "    start_n, end_n = 1, 31\n",
    "    while not breaker:\n",
    "        #할당된 xpath없을시 빠르게 멈추기위한 코드_1\n",
    "        if breaker == True:\n",
    "            break\n",
    "            \n",
    "        check_soup = bs(driver.page_source, 'lxml')\n",
    "        check_len = len(check_soup.select('div.title_area'))\n",
    "        ###_1\n",
    "        \n",
    "        for i in range(start_n, end_n):\n",
    "            xpath = '//*[@id=\"main_pack\"]/section/div[1]/ul/li[{}]/div/div[2]/div[2]/a'.format(i)\n",
    "    \n",
    "            ###할당된 xpath없을시 빠르게 멈추기위한 코드_2\n",
    "            if i == check_len+1:\n",
    "                breaker = True\n",
    "                break\n",
    "            ###_2\n",
    "            try:\n",
    "                site = driver.find_element(By.XPATH, xpath)\n",
    "                href_value = site.get_attribute(\"href\")\n",
    "                \n",
    "                if not any(element in href_value for element in eliminate_cafe):\n",
    "                    site.click()\n",
    "           \n",
    "                    driver.implicitly_wait(15) \n",
    "                    time.sleep(random.uniform(0.5, 1))\n",
    "            \n",
    "                    ###########수집하기###########\n",
    "                    driver.switch_to.window(driver.window_handles[1])\n",
    "                    \n",
    "                    \n",
    "                    #제목 및 전체 로딩_중긴에 soup 전체가 수집되지않는 경우 발생\n",
    "                    for i in range(5):\n",
    "                        try:\n",
    "                            title=''\n",
    "                            time.sleep(random.uniform(0.4, 1))\n",
    "                            driver.switch_to.frame('cafe_main') #메인프레임전환\n",
    "                            driver.implicitly_wait(15)\n",
    "                            soup = bs(driver.page_source, 'lxml')\n",
    "                            title = soup.select('h3.title_text')[0].text\n",
    "                            break\n",
    "                        except:\n",
    "                            driver.refresh()\n",
    "                           \n",
    "                    if len(title) != 0:     \n",
    "                        #본문\n",
    "                        contents = [i.text for i in soup.select('div.se-component-content')]\n",
    "                        if len(contents) == 0:\n",
    "                            contents = [i.text for i in soup.select('div.ContentRenderer')]\n",
    "                        contents = ' '.join(contents)\n",
    "                        contents = contents.replace('\\u200b', ' ')\n",
    "                        contents = re.sub(r'\\s+', ' ', contents).strip() #중복 공백 제거\n",
    "\n",
    "                        \n",
    "                        #날짜\n",
    "                        date = soup.select('span.date')[0].text\n",
    "                        \n",
    "                        #댓글\n",
    "                        comments = [i.text for i in soup.select('span.text_comment')]\n",
    "                        \n",
    "                        #url\n",
    "                        url = driver.current_url\n",
    "                        #데이터프레임에 추가\n",
    "                        input_data = [date, keywords, title, contents, comments, '네이버포탈' , url]\n",
    "                        dataframe.loc[index] = input_data\n",
    "                        index+=1\n",
    "                        progress.update(1)\n",
    "                    else:\n",
    "                        print('here')\n",
    "                    \n",
    "                    #탭닫기\n",
    "                    while True:\n",
    "                        time.sleep(0.2)\n",
    "                        if len(driver.window_handles) == 2:\n",
    "                            driver.close()\n",
    "                            break\n",
    "                    #탭전환    \n",
    "                    while True:\n",
    "                        time.sleep(0.2)\n",
    "                        if len(driver.window_handles) == 1:\n",
    "                            driver.switch_to.window(driver.window_handles[0])\n",
    "                            time.sleep(0.2)\n",
    "                            break\n",
    "            except:\n",
    "                pass\n",
    "                \n",
    "            try:   #카페글이 삭제된 게시물입니다.\n",
    "                driver.switch_to.alert.dismiss()\n",
    "                all_tabs = driver.window_handles\n",
    "                for tab in all_tabs[1:]:\n",
    "                    driver.switch_to.window(tab)\n",
    "                    time.sleep(0.2)\n",
    "                    driver.close()\n",
    "                driver.switch_to.window(all_tabs[0])\n",
    "            except:\n",
    "                pass\n",
    "            \n",
    "        driver.execute_script(\"window.scrollTo(0, document.body.scrollHeight);\")\n",
    "        time.sleep(1)\n",
    "        \n",
    "        start_n+=30\n",
    "        end_n+=30"
   ]
  },
  {
   "cell_type": "code",
   "execution_count": null,
   "metadata": {},
   "outputs": [],
   "source": [
    "dataframe['keyword'][0]"
   ]
  },
  {
   "cell_type": "code",
   "execution_count": null,
   "metadata": {},
   "outputs": [],
   "source": [
    "dataframe.head()"
   ]
  },
  {
   "cell_type": "markdown",
   "metadata": {},
   "source": [
    "## 2. 저장"
   ]
  },
  {
   "cell_type": "code",
   "execution_count": null,
   "metadata": {},
   "outputs": [],
   "source": [
    "#URL 기준 필터링\n",
    "dataframe = dataframe.drop_duplicates(subset='url',keep='first').reset_index(drop=True)"
   ]
  },
  {
   "cell_type": "code",
   "execution_count": null,
   "metadata": {},
   "outputs": [],
   "source": [
    "print(dataframe.shape)\n",
    "dataframe.tail()"
   ]
  },
  {
   "cell_type": "code",
   "execution_count": null,
   "metadata": {},
   "outputs": [],
   "source": [
    "# CSV 파일로 저장\n",
    "csv_filename = \"naver_potal_카테고리명_키워드명.csv\"\n",
    "dataframe.to_csv(csv_filename, encoding=\"utf-8-sig\")\n",
    "logging.info(f\"데이터가 '{csv_filename}' 파일로 저장되었습니다.\")"
   ]
  }
 ],
 "metadata": {
  "kernelspec": {
   "display_name": "ddd",
   "language": "python",
   "name": "python3"
  },
  "language_info": {
   "codemirror_mode": {
    "name": "ipython",
    "version": 3
   },
   "file_extension": ".py",
   "mimetype": "text/x-python",
   "name": "python",
   "nbconvert_exporter": "python",
   "pygments_lexer": "ipython3",
   "version": "3.12.3"
  }
 },
 "nbformat": 4,
 "nbformat_minor": 4
}
